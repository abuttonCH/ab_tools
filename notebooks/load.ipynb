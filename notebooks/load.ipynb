{
 "cells": [
  {
   "cell_type": "code",
   "execution_count": 1,
   "metadata": {},
   "outputs": [],
   "source": [
    "# import custom function for this course\n",
    "import requests\n",
    "from pathlib import Path\n",
    "\n",
    "\n",
    "def load_module(module_name, module_url):\n",
    "    # Download helper functions from Learn Pytorch repo (if it's not already downloaded)\n",
    "    if Path(module_name).is_file():\n",
    "        print(f\"{module_name} already exists, skipping download\")\n",
    "    else:\n",
    "        print(f\"Downloading {module_name}\")\n",
    "        request = requests.get(module_url)\n",
    "        with open(module_name, \"wb\") as f:\n",
    "            f.write(request.content)"
   ]
  },
  {
   "cell_type": "code",
   "execution_count": null,
   "metadata": {},
   "outputs": [],
   "source": [
    "# test method\n",
    "test_url = \"https://raw.githubusercontent.com/mrdbourke/pytorch-deep-learning/main/helper_functions.py\"\n",
    "test_name = \"tests/loaded_module.py\"\n",
    "\n",
    "load_module(test_name, test_url)\n",
    "\n",
    "# test importing the functions\n",
    "from tests.loaded_module import (\n",
    "    plot_predictions,\n",
    "    plot_decision_boundary,\n",
    ")\n"
   ]
  }
 ],
 "metadata": {
  "kernelspec": {
   "display_name": "test_env",
   "language": "python",
   "name": "python3"
  },
  "language_info": {
   "codemirror_mode": {
    "name": "ipython",
    "version": 3
   },
   "file_extension": ".py",
   "mimetype": "text/x-python",
   "name": "python",
   "nbconvert_exporter": "python",
   "pygments_lexer": "ipython3",
   "version": "3.12.0"
  }
 },
 "nbformat": 4,
 "nbformat_minor": 2
}
